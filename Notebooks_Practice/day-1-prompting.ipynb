{
 "cells": [
  {
   "cell_type": "markdown",
   "id": "0c0b6c43",
   "metadata": {
    "id": "jkxRSYjzA1oX",
    "papermill": {
     "duration": 0.025011,
     "end_time": "2024-11-12T18:02:51.566071",
     "exception": false,
     "start_time": "2024-11-12T18:02:51.541060",
     "status": "completed"
    },
    "tags": []
   },
   "source": [
    "##### Copyright 2024 Google LLC."
   ]
  },
  {
   "cell_type": "code",
   "execution_count": 1,
   "id": "2d1dcdc0",
   "metadata": {
    "cellView": "form",
    "execution": {
     "iopub.execute_input": "2024-11-12T18:02:51.609290Z",
     "iopub.status.busy": "2024-11-12T18:02:51.608130Z",
     "iopub.status.idle": "2024-11-12T18:02:51.615798Z",
     "shell.execute_reply": "2024-11-12T18:02:51.614542Z"
    },
    "id": "5u5OZ2ShA3BA",
    "jupyter": {
     "source_hidden": true
    },
    "papermill": {
     "duration": 0.0323,
     "end_time": "2024-11-12T18:02:51.618445",
     "exception": false,
     "start_time": "2024-11-12T18:02:51.586145",
     "status": "completed"
    },
    "tags": []
   },
   "outputs": [],
   "source": [
    "# @title Licensed under the Apache License, Version 2.0 (the \"License\");\n",
    "# you may not use this file except in compliance with the License.\n",
    "# You may obtain a copy of the License at\n",
    "#\n",
    "# https://www.apache.org/licenses/LICENSE-2.0\n",
    "#\n",
    "# Unless required by applicable law or agreed to in writing, software\n",
    "# distributed under the License is distributed on an \"AS IS\" BASIS,\n",
    "# WITHOUT WARRANTIES OR CONDITIONS OF ANY KIND, either express or implied.\n",
    "# See the License for the specific language governing permissions and\n",
    "# limitations under the License."
   ]
  },
  {
   "cell_type": "markdown",
   "id": "6df89410",
   "metadata": {
    "id": "csNPnkuCobmG",
    "papermill": {
     "duration": 0.025895,
     "end_time": "2024-11-12T18:02:51.664143",
     "exception": false,
     "start_time": "2024-11-12T18:02:51.638248",
     "status": "completed"
    },
    "tags": []
   },
   "source": [
    "# Day 1 - Prompting\n",
    "\n",
    "Welcome to the Kaggle 5-day Generative AI course!\n",
    "\n",
    "This notebook will show you how to get started with the Gemini API and walk you through some of the example prompts and techniques that you can also read about in the Prompting whitepaper. You don't need to read the whitepaper to use this notebook, but the papers will give you some theoretical context and background to complement this interactive notebook.\n",
    "\n",
    "\n",
    "## Before you begin\n",
    "\n",
    "In this notebook, you'll start exploring prompts and prompt parameters using the Python SDK and AI Studio. For some inspiration, you might enjoy exploring some apps that have been built using the Gemini family of models. Here are a few that we like, and we think you will too.\n",
    "\n",
    "* [TextFX](https://textfx.withgoogle.com/) is a suite of AI-powered tools for rappers, made in collaboration with Lupe Fiasco,\n",
    "* [SQL Talk](https://sql-talk-r5gdynozbq-uc.a.run.app/) shows how you can talk directly to a database using the Gemini API,\n",
    "* [NotebookLM](https://notebooklm.google/) uses Gemini models to build your own personal AI research assistant.\n",
    "\n",
    "\n",
    "## For help\n",
    "\n",
    "**Common issues are covered in the [FAQ and troubleshooting guide](https://www.kaggle.com/code/markishere/day-0-troubleshooting-and-faqs).**\n",
    "\n",
    "### A note on the Gemini API and Vertex AI\n",
    "\n",
    "In the whitepapers, most of the example code uses the Enterprise [Vertex AI platform](https://cloud.google.com/vertex-ai). In contrast, this notebook, along with the others in this series, will use the [Gemini Developer API](https://ai.google.dev/gemini-api/) and [AI Studio](https://aistudio.google.com/).\n",
    "\n",
    "Both APIs provide access to the Gemini family of models, and the code to interact with the models is very similar. Vertex provides a world-class platform for enterprises, governments and advanced users that need powerful features like data governance, ML ops and deep Google Cloud integration.\n",
    "\n",
    "AI Studio is free to use and only requires a compatible Google account to log in and get started. It is deeply integrated with the Gemini API, which comes with a generous [free tier](https://ai.google.dev/pricing) that you can use to run the code in these exercises.\n",
    "\n",
    "If you are already set up with Google Cloud, you can check out the [Enterprise Gemini API](https://cloud.google.com/vertex-ai/generative-ai/docs/model-reference/inference) through Vertex AI, and run the samples directly from the supplied whitepapers."
   ]
  },
  {
   "cell_type": "markdown",
   "id": "3b7308ad",
   "metadata": {
    "id": "f00ea7c99e44",
    "papermill": {
     "duration": 0.019394,
     "end_time": "2024-11-12T18:02:51.704270",
     "exception": false,
     "start_time": "2024-11-12T18:02:51.684876",
     "status": "completed"
    },
    "tags": []
   },
   "source": [
    "## Get started with Kaggle notebooks\n",
    "\n",
    "If this is your first time using a Kaggle notebook, welcome! You can read about how to use Kaggle notebooks [in the docs](https://www.kaggle.com/docs/notebooks).\n",
    "\n",
    "First, you will need to phone verify your account at kaggle.com/settings.\n",
    "\n",
    "![](https://storage.googleapis.com/kaggle-media/Images/5dgai_0.png)"
   ]
  },
  {
   "cell_type": "markdown",
   "id": "622c4ff2",
   "metadata": {
    "papermill": {
     "duration": 0.018931,
     "end_time": "2024-11-12T18:02:51.742423",
     "exception": false,
     "start_time": "2024-11-12T18:02:51.723492",
     "status": "completed"
    },
    "tags": []
   },
   "source": [
    "To run this notebook, as well as the others in this course, you will need to make a copy, or fork, the notebook. Look for the `Copy and Edit` button in the top-right, and **click it** to make an editable, private copy of the notebook. It should look like this one:\n",
    "\n",
    "![Copy and Edit button](https://storage.googleapis.com/kaggle-media/Images/5gdai_sc_1.png)\n",
    "\n",
    "Your copy will now have a ▶️ **Run** button next to each code cell that you can press to execute that cell. These notebooks are expected to be run in order from top-to-bottom, but you are encouraged to add new cells, run your own code and explore. If you get stuck, you can try the `Factory reset` option in the `Run` menu, or head back to the original notebook and make a fresh copy.\n",
    "\n",
    "![Run cell button](https://storage.googleapis.com/kaggle-media/Images/5gdai_sc_2.png)\n",
    "\n",
    "### Problems?\n",
    "\n",
    "If you have any problems, head over to the [Kaggle Discord](https://discord.com/invite/kaggle), find the [`#5dgai-q-and-a` channel](https://discord.com/channels/1101210829807956100/1303438695143178251) and ask for help."
   ]
  },
  {
   "cell_type": "markdown",
   "id": "230f9e1d",
   "metadata": {
    "id": "ExkOXcPxtTb5",
    "papermill": {
     "duration": 0.018649,
     "end_time": "2024-11-12T18:02:51.779940",
     "exception": false,
     "start_time": "2024-11-12T18:02:51.761291",
     "status": "completed"
    },
    "tags": []
   },
   "source": [
    "## Get started with the Gemini API\n",
    "\n",
    "All of the exercises in this notebook will use the [Gemini API](https://ai.google.dev/gemini-api/) by way of the [Python SDK](https://pypi.org/project/google-generativeai/). Each of these prompts can be accessed directly in [Google AI Studio](https://aistudio.google.com/) too, so if you would rather use a web interface and skip the code for this activity, look for the <img src=\"https://ai.google.dev/site-assets/images/marketing/home/icon-ais.png\" style=\"height: 24px\" height=24/> AI Studio link on each prompt."
   ]
  },
  {
   "cell_type": "markdown",
   "id": "83191619",
   "metadata": {
    "papermill": {
     "duration": 0.019385,
     "end_time": "2024-11-12T18:02:51.818239",
     "exception": false,
     "start_time": "2024-11-12T18:02:51.798854",
     "status": "completed"
    },
    "tags": []
   },
   "source": [
    "Next, you will need to add your API key to your Kaggle Notebook as a Kaggle User Secret.\n",
    "\n",
    "![](https://storage.googleapis.com/kaggle-media/Images/5dgai_1.png)\n",
    "![](https://storage.googleapis.com/kaggle-media/Images/5dgai_2.png)\n",
    "![](https://storage.googleapis.com/kaggle-media/Images/5dgai_3.png)\n",
    "![](https://storage.googleapis.com/kaggle-media/Images/5dgai_4.png)"
   ]
  },
  {
   "cell_type": "markdown",
   "id": "a60ff143",
   "metadata": {
    "id": "UAjUV3BsvFXQ",
    "papermill": {
     "duration": 0.018538,
     "end_time": "2024-11-12T18:02:51.855749",
     "exception": false,
     "start_time": "2024-11-12T18:02:51.837211",
     "status": "completed"
    },
    "tags": []
   },
   "source": [
    "### Install the SDK"
   ]
  },
  {
   "cell_type": "code",
   "execution_count": 2,
   "id": "85eb7fd7",
   "metadata": {
    "execution": {
     "iopub.execute_input": "2024-11-12T18:02:51.896402Z",
     "iopub.status.busy": "2024-11-12T18:02:51.895974Z",
     "iopub.status.idle": "2024-11-12T18:03:26.391813Z",
     "shell.execute_reply": "2024-11-12T18:03:26.390015Z"
    },
    "id": "NzwzJFU9LqkJ",
    "papermill": {
     "duration": 34.538112,
     "end_time": "2024-11-12T18:03:26.413410",
     "exception": false,
     "start_time": "2024-11-12T18:02:51.875298",
     "status": "completed"
    },
    "tags": []
   },
   "outputs": [
    {
     "name": "stdout",
     "output_type": "stream",
     "text": [
      "Note: you may need to restart the kernel to use updated packages.\n"
     ]
    }
   ],
   "source": [
    "%pip install -U -q \"google-generativeai>=0.8.3\""
   ]
  },
  {
   "cell_type": "code",
   "execution_count": 3,
   "id": "fe7ec8be",
   "metadata": {
    "execution": {
     "iopub.execute_input": "2024-11-12T18:03:26.465456Z",
     "iopub.status.busy": "2024-11-12T18:03:26.464980Z",
     "iopub.status.idle": "2024-11-12T18:03:27.733975Z",
     "shell.execute_reply": "2024-11-12T18:03:27.732620Z"
    },
    "id": "5DwxYIRavMST",
    "papermill": {
     "duration": 1.300857,
     "end_time": "2024-11-12T18:03:27.736809",
     "exception": false,
     "start_time": "2024-11-12T18:03:26.435952",
     "status": "completed"
    },
    "tags": []
   },
   "outputs": [],
   "source": [
    "import google.generativeai as genai\n",
    "from IPython.display import HTML, Markdown, display"
   ]
  },
  {
   "cell_type": "markdown",
   "id": "e325ce68",
   "metadata": {
    "id": "DNEt2BCOvOJ1",
    "papermill": {
     "duration": 0.018601,
     "end_time": "2024-11-12T18:03:27.774255",
     "exception": false,
     "start_time": "2024-11-12T18:03:27.755654",
     "status": "completed"
    },
    "tags": []
   },
   "source": [
    "### Set up your API key\n",
    "\n",
    "To run the following cell, your API key must be stored it in a [Kaggle secret](https://www.kaggle.com/discussions/product-feedback/114053) named `GOOGLE_API_KEY`.\n",
    "\n",
    "If you don't already have an API key, you can grab one from [AI Studio](https://aistudio.google.com/app/apikey). You can find [detailed instructions in the docs](https://ai.google.dev/gemini-api/docs/api-key).\n",
    "\n",
    "To make the key available through Kaggle secrets, choose `Secrets` from the `Add-ons` menu and follow the instructions to add your key or enable it for this notebook."
   ]
  },
  {
   "cell_type": "code",
   "execution_count": 4,
   "id": "7ce84141",
   "metadata": {
    "execution": {
     "iopub.execute_input": "2024-11-12T18:03:27.814468Z",
     "iopub.status.busy": "2024-11-12T18:03:27.813560Z",
     "iopub.status.idle": "2024-11-12T18:03:27.989015Z",
     "shell.execute_reply": "2024-11-12T18:03:27.987708Z"
    },
    "id": "SHl0bkPCvayd",
    "papermill": {
     "duration": 0.19867,
     "end_time": "2024-11-12T18:03:27.991842",
     "exception": false,
     "start_time": "2024-11-12T18:03:27.793172",
     "status": "completed"
    },
    "tags": []
   },
   "outputs": [],
   "source": [
    "from kaggle_secrets import UserSecretsClient\n",
    "\n",
    "GOOGLE_API_KEY1 = UserSecretsClient().get_secret(\"GOOGLE_API_KEY\")\n",
    "genai.configure(api_key=GOOGLE_API_KEY1)"
   ]
  },
  {
   "cell_type": "markdown",
   "id": "a75b152c",
   "metadata": {
    "id": "4e720472fd86",
    "papermill": {
     "duration": 0.018688,
     "end_time": "2024-11-12T18:03:28.029667",
     "exception": false,
     "start_time": "2024-11-12T18:03:28.010979",
     "status": "completed"
    },
    "tags": []
   },
   "source": [
    "If you received an error response along the lines of `No user secrets exist for kernel id ...`, then you need to add your API key via `Add-ons`, `Secrets` **and** enable it.\n",
    "\n",
    "![Screenshot of the checkbox to enable GOOGLE_API_KEY secret](https://storage.googleapis.com/kaggle-media/Images/5gdai_sc_3.png)"
   ]
  },
  {
   "cell_type": "markdown",
   "id": "e396e3bd",
   "metadata": {
    "id": "H_YXCYIKvyZJ",
    "papermill": {
     "duration": 0.01866,
     "end_time": "2024-11-12T18:03:28.067713",
     "exception": false,
     "start_time": "2024-11-12T18:03:28.049053",
     "status": "completed"
    },
    "tags": []
   },
   "source": [
    "### Run your first prompt\n",
    "\n",
    "In this step, you will test that your API key is set up correctly by making a request. The `gemini-1.5-flash` model has been selected here."
   ]
  },
  {
   "cell_type": "code",
   "execution_count": 5,
   "id": "182464a8",
   "metadata": {
    "execution": {
     "iopub.execute_input": "2024-11-12T18:03:28.107849Z",
     "iopub.status.busy": "2024-11-12T18:03:28.107339Z",
     "iopub.status.idle": "2024-11-12T18:03:29.761239Z",
     "shell.execute_reply": "2024-11-12T18:03:29.760013Z"
    },
    "id": "BV1o0PmcvyJF",
    "papermill": {
     "duration": 1.677624,
     "end_time": "2024-11-12T18:03:29.764232",
     "exception": false,
     "start_time": "2024-11-12T18:03:28.086608",
     "status": "completed"
    },
    "tags": []
   },
   "outputs": [
    {
     "name": "stdout",
     "output_type": "stream",
     "text": [
      "Imagine you have a really smart friend who can learn new things really fast. That friend is like AI, or Artificial Intelligence. \n",
      "\n",
      "AI is like a computer program that can think and learn, just like you! It can play games, answer questions, and even create art.  \n",
      "\n",
      "Think about how you learn new things: You see something, you hear something, you read something, and then your brain figures it out! AI is kind of like that. It gets information from the world, and then it learns how to use that information. \n",
      "\n",
      "For example, if you show AI lots of pictures of cats, it can learn to recognize a cat in any picture! \n",
      "\n",
      "AI is still learning and growing, but it's already helping us do amazing things, like:\n",
      "\n",
      "* **Helping doctors find diseases**\n",
      "* **Making cars that drive themselves**\n",
      "* **Creating fun video games**\n",
      "\n",
      "It's like having a super smart helper who can do all sorts of cool things!  \n",
      "\n"
     ]
    }
   ],
   "source": [
    "from google.generativeai.types import HarmCategory, HarmBlockThreshold\n",
    "flash = genai.GenerativeModel('gemini-1.5-flash')\n",
    "response = flash.generate_content(\"Explain AI as if I were a kid\", safety_settings={\n",
    "            HarmCategory.HARM_CATEGORY_HATE_SPEECH: HarmBlockThreshold.BLOCK_NONE,\n",
    "            HarmCategory.HARM_CATEGORY_HARASSMENT: HarmBlockThreshold.BLOCK_NONE,\n",
    "            HarmCategory.HARM_CATEGORY_SEXUALLY_EXPLICIT: HarmBlockThreshold.BLOCK_NONE,\n",
    "            HarmCategory.HARM_CATEGORY_DANGEROUS_CONTENT: HarmBlockThreshold.BLOCK_NONE,\n",
    "        })\n",
    "print(response.text)\n",
    "\n",
    "     "
   ]
  },
  {
   "cell_type": "markdown",
   "id": "165d21f0",
   "metadata": {
    "id": "f60ed9d8ae41",
    "papermill": {
     "duration": 0.019006,
     "end_time": "2024-11-12T18:03:29.802260",
     "exception": false,
     "start_time": "2024-11-12T18:03:29.783254",
     "status": "completed"
    },
    "tags": []
   },
   "source": [
    "The response often comes back in markdown format, which you can render directly in this notebook."
   ]
  },
  {
   "cell_type": "code",
   "execution_count": 6,
   "id": "bbe2c8d2",
   "metadata": {
    "execution": {
     "iopub.execute_input": "2024-11-12T18:03:29.843634Z",
     "iopub.status.busy": "2024-11-12T18:03:29.843149Z",
     "iopub.status.idle": "2024-11-12T18:03:29.852321Z",
     "shell.execute_reply": "2024-11-12T18:03:29.851121Z"
    },
    "id": "c933e5e460a5",
    "papermill": {
     "duration": 0.033183,
     "end_time": "2024-11-12T18:03:29.855071",
     "exception": false,
     "start_time": "2024-11-12T18:03:29.821888",
     "status": "completed"
    },
    "tags": []
   },
   "outputs": [
    {
     "data": {
      "text/markdown": [
       "Imagine you have a really smart friend who can learn new things really fast. That friend is like AI, or Artificial Intelligence. \n",
       "\n",
       "AI is like a computer program that can think and learn, just like you! It can play games, answer questions, and even create art.  \n",
       "\n",
       "Think about how you learn new things: You see something, you hear something, you read something, and then your brain figures it out! AI is kind of like that. It gets information from the world, and then it learns how to use that information. \n",
       "\n",
       "For example, if you show AI lots of pictures of cats, it can learn to recognize a cat in any picture! \n",
       "\n",
       "AI is still learning and growing, but it's already helping us do amazing things, like:\n",
       "\n",
       "* **Helping doctors find diseases**\n",
       "* **Making cars that drive themselves**\n",
       "* **Creating fun video games**\n",
       "\n",
       "It's like having a super smart helper who can do all sorts of cool things!  \n"
      ],
      "text/plain": [
       "<IPython.core.display.Markdown object>"
      ]
     },
     "execution_count": 6,
     "metadata": {},
     "output_type": "execute_result"
    }
   ],
   "source": [
    "Markdown(response.text)"
   ]
  },
  {
   "cell_type": "markdown",
   "id": "bb498699",
   "metadata": {
    "id": "byx0pT9ZMW2Q",
    "papermill": {
     "duration": 0.018899,
     "end_time": "2024-11-12T18:03:29.893166",
     "exception": false,
     "start_time": "2024-11-12T18:03:29.874267",
     "status": "completed"
    },
    "tags": []
   },
   "source": [
    "### Start a chat\n",
    "\n",
    "The previous example uses a single-turn, text-in/text-out structure, but you can also set up a multi-turn chat structure too."
   ]
  },
  {
   "cell_type": "code",
   "execution_count": 7,
   "id": "eacdc69f",
   "metadata": {
    "execution": {
     "iopub.execute_input": "2024-11-12T18:03:29.933388Z",
     "iopub.status.busy": "2024-11-12T18:03:29.932985Z",
     "iopub.status.idle": "2024-11-12T18:03:30.543544Z",
     "shell.execute_reply": "2024-11-12T18:03:30.542517Z"
    },
    "id": "lV_S5ZL5MidD",
    "papermill": {
     "duration": 0.633604,
     "end_time": "2024-11-12T18:03:30.546017",
     "exception": false,
     "start_time": "2024-11-12T18:03:29.912413",
     "status": "completed"
    },
    "tags": []
   },
   "outputs": [
    {
     "name": "stdout",
     "output_type": "stream",
     "text": [
      "Hello Zlork! It's nice to meet you.  😊  What can I do for you today? \n",
      "\n"
     ]
    }
   ],
   "source": [
    "chat = flash.start_chat(history=[])\n",
    "response = chat.send_message('Hello! My name is Zlork.')\n",
    "print(response.text)"
   ]
  },
  {
   "cell_type": "code",
   "execution_count": 8,
   "id": "93626c82",
   "metadata": {
    "execution": {
     "iopub.execute_input": "2024-11-12T18:03:30.587501Z",
     "iopub.status.busy": "2024-11-12T18:03:30.587051Z",
     "iopub.status.idle": "2024-11-12T18:03:31.635324Z",
     "shell.execute_reply": "2024-11-12T18:03:31.634061Z"
    },
    "id": "7b0372c3c64a",
    "papermill": {
     "duration": 1.071986,
     "end_time": "2024-11-12T18:03:31.638028",
     "exception": false,
     "start_time": "2024-11-12T18:03:30.566042",
     "status": "completed"
    },
    "tags": []
   },
   "outputs": [
    {
     "name": "stdout",
     "output_type": "stream",
     "text": [
      "Okay, Zlork, here's a fun fact about dinosaurs:\n",
      "\n",
      "**Did you know that some dinosaurs had feathers?** \n",
      "\n",
      "While we usually picture dinosaurs as scaly beasts, scientists have found fossils of many dinosaurs with feathers!  These feathers weren't always for flying, but they could have been used for display, insulation, or even gliding. \n",
      "\n",
      "It's amazing to think that these ancient giants might have been more colorful and fluffy than we initially thought!  \n",
      "\n",
      "Do you want to know more about feathered dinosaurs, or would you like to hear something else interesting about dinosaurs?  \n",
      "\n"
     ]
    }
   ],
   "source": [
    "response = chat.send_message('Can you tell something interesting about dinosaurs?')\n",
    "print(response.text)"
   ]
  },
  {
   "cell_type": "code",
   "execution_count": 9,
   "id": "c974fd74",
   "metadata": {
    "execution": {
     "iopub.execute_input": "2024-11-12T18:03:31.681839Z",
     "iopub.status.busy": "2024-11-12T18:03:31.680577Z",
     "iopub.status.idle": "2024-11-12T18:03:33.232930Z",
     "shell.execute_reply": "2024-11-12T18:03:33.231716Z"
    },
    "papermill": {
     "duration": 1.577224,
     "end_time": "2024-11-12T18:03:33.235709",
     "exception": false,
     "start_time": "2024-11-12T18:03:31.658485",
     "status": "completed"
    },
    "tags": []
   },
   "outputs": [
    {
     "name": "stdout",
     "output_type": "stream",
     "text": [
      "That's a fun question, Zlork! It's not entirely *incorrect*, but it's also not quite the whole story. Here's the breakdown:\n",
      "\n",
      "* **Diamonds are made of pure carbon.**  So, any carbon-based life form, including dinosaurs, could theoretically become part of a diamond.\n",
      "* **Diamonds form deep underground under intense heat and pressure.** This process takes millions of years, and dinosaurs lived a very long time ago.\n",
      "* **The carbon in a diamond doesn't necessarily come from a single source.** It could be from ancient plants, animals, or even rocks. \n",
      "\n",
      "So, while it's possible that some tiny amount of carbon in a diamond *could* have come from a dinosaur, it's highly unlikely that a diamond was *entirely* made from a dinosaur. \n",
      "\n",
      "Think of it this way:  A diamond is like a giant puzzle, and the carbon atoms that make it up are the pieces.  Those pieces could come from lots of different sources, including ancient life forms. \n",
      "\n",
      "Does that make sense?  \n",
      "\n",
      "Would you like to learn more about diamonds? \n",
      "\n"
     ]
    }
   ],
   "source": [
    "response = chat.send_message('Is it correct to say that the diamonds, chemically speaking, can be made of dinosaurs?')\n",
    "print(response.text)"
   ]
  },
  {
   "cell_type": "code",
   "execution_count": 10,
   "id": "2cf72a4f",
   "metadata": {
    "execution": {
     "iopub.execute_input": "2024-11-12T18:03:33.277588Z",
     "iopub.status.busy": "2024-11-12T18:03:33.277169Z",
     "iopub.status.idle": "2024-11-12T18:03:33.900223Z",
     "shell.execute_reply": "2024-11-12T18:03:33.898726Z"
    },
    "id": "d3f9591392a7",
    "papermill": {
     "duration": 0.647338,
     "end_time": "2024-11-12T18:03:33.902967",
     "exception": false,
     "start_time": "2024-11-12T18:03:33.255629",
     "status": "completed"
    },
    "tags": []
   },
   "outputs": [
    {
     "name": "stdout",
     "output_type": "stream",
     "text": [
      "Of course I remember your name, Zlork!  😊 \n",
      "\n",
      "I'm a pretty good listener and always try to keep track of the names of the people I talk to. \n",
      "\n",
      "What else can I help you with today? \n",
      "\n"
     ]
    }
   ],
   "source": [
    "# While you have the `chat` object around, the conversation state\n",
    "# persists. Confirm that by asking if it knows my name.\n",
    "response = chat.send_message('Do you remember what my name is?')\n",
    "print(response.text)"
   ]
  },
  {
   "cell_type": "markdown",
   "id": "29d31966",
   "metadata": {
    "id": "2KAjpr1200sW",
    "papermill": {
     "duration": 0.020079,
     "end_time": "2024-11-12T18:03:33.942951",
     "exception": false,
     "start_time": "2024-11-12T18:03:33.922872",
     "status": "completed"
    },
    "tags": []
   },
   "source": [
    "### Choose a model\n",
    "\n",
    "The Gemini API provides access to a number of models from the Gemini model family. Read about the available models and their capabilities on the [model overview page](https://ai.google.dev/gemini-api/docs/models/gemini).\n",
    "\n",
    "In this step you'll use the API to list all of the available models."
   ]
  },
  {
   "cell_type": "code",
   "execution_count": 11,
   "id": "27b666f3",
   "metadata": {
    "execution": {
     "iopub.execute_input": "2024-11-12T18:03:33.984463Z",
     "iopub.status.busy": "2024-11-12T18:03:33.984054Z",
     "iopub.status.idle": "2024-11-12T18:03:34.336498Z",
     "shell.execute_reply": "2024-11-12T18:03:34.335338Z"
    },
    "id": "uUUZa2uq2jDm",
    "papermill": {
     "duration": 0.376451,
     "end_time": "2024-11-12T18:03:34.339360",
     "exception": false,
     "start_time": "2024-11-12T18:03:33.962909",
     "status": "completed"
    },
    "tags": []
   },
   "outputs": [
    {
     "name": "stdout",
     "output_type": "stream",
     "text": [
      "models/chat-bison-001\n",
      "models/text-bison-001\n",
      "models/embedding-gecko-001\n",
      "models/gemini-1.0-pro-latest\n",
      "models/gemini-1.0-pro\n",
      "models/gemini-pro\n",
      "models/gemini-1.0-pro-001\n",
      "models/gemini-1.0-pro-vision-latest\n",
      "models/gemini-pro-vision\n",
      "models/gemini-1.5-pro-latest\n",
      "models/gemini-1.5-pro-001\n",
      "models/gemini-1.5-pro-002\n",
      "models/gemini-1.5-pro\n",
      "models/gemini-1.5-pro-exp-0801\n",
      "models/gemini-1.5-pro-exp-0827\n",
      "models/gemini-1.5-flash-latest\n",
      "models/gemini-1.5-flash-001\n",
      "models/gemini-1.5-flash-001-tuning\n",
      "models/gemini-1.5-flash\n",
      "models/gemini-1.5-flash-exp-0827\n",
      "models/gemini-1.5-flash-002\n",
      "models/gemini-1.5-flash-8b\n",
      "models/gemini-1.5-flash-8b-001\n",
      "models/gemini-1.5-flash-8b-latest\n",
      "models/gemini-1.5-flash-8b-exp-0827\n",
      "models/gemini-1.5-flash-8b-exp-0924\n",
      "models/embedding-001\n",
      "models/text-embedding-004\n",
      "models/aqa\n"
     ]
    }
   ],
   "source": [
    "for model in genai.list_models():\n",
    "  print(model.name)"
   ]
  },
  {
   "cell_type": "markdown",
   "id": "a0d3f5c6",
   "metadata": {
    "id": "rN49kSI54R1v",
    "papermill": {
     "duration": 0.020267,
     "end_time": "2024-11-12T18:03:34.379823",
     "exception": false,
     "start_time": "2024-11-12T18:03:34.359556",
     "status": "completed"
    },
    "tags": []
   },
   "source": [
    "The [`models.list`](https://ai.google.dev/api/models#method:-models.list) response also returns additional information about the model's capabilities, like the token limits and supported parameters."
   ]
  },
  {
   "cell_type": "code",
   "execution_count": 12,
   "id": "6295685f",
   "metadata": {
    "execution": {
     "iopub.execute_input": "2024-11-12T18:03:34.424261Z",
     "iopub.status.busy": "2024-11-12T18:03:34.423856Z",
     "iopub.status.idle": "2024-11-12T18:03:34.548035Z",
     "shell.execute_reply": "2024-11-12T18:03:34.546908Z"
    },
    "id": "k7JJ1K6j4Rl8",
    "papermill": {
     "duration": 0.149387,
     "end_time": "2024-11-12T18:03:34.550908",
     "exception": false,
     "start_time": "2024-11-12T18:03:34.401521",
     "status": "completed"
    },
    "tags": []
   },
   "outputs": [
    {
     "name": "stdout",
     "output_type": "stream",
     "text": [
      "Model(name='models/gemini-1.5-flash',\n",
      "      base_model_id='',\n",
      "      version='001',\n",
      "      display_name='Gemini 1.5 Flash',\n",
      "      description='Fast and versatile multimodal model for scaling across diverse tasks',\n",
      "      input_token_limit=1000000,\n",
      "      output_token_limit=8192,\n",
      "      supported_generation_methods=['generateContent', 'countTokens'],\n",
      "      temperature=1.0,\n",
      "      max_temperature=2.0,\n",
      "      top_p=0.95,\n",
      "      top_k=40)\n"
     ]
    }
   ],
   "source": [
    "for model in genai.list_models():\n",
    "  if model.name == 'models/gemini-1.5-flash':\n",
    "    print(model)\n",
    "    break"
   ]
  },
  {
   "cell_type": "markdown",
   "id": "8000b364",
   "metadata": {
    "id": "5rU_UBlZdooM",
    "papermill": {
     "duration": 0.0205,
     "end_time": "2024-11-12T18:03:34.591785",
     "exception": false,
     "start_time": "2024-11-12T18:03:34.571285",
     "status": "completed"
    },
    "tags": []
   },
   "source": [
    "## Explore generation parameters\n",
    "\n"
   ]
  },
  {
   "cell_type": "markdown",
   "id": "8404c375",
   "metadata": {
    "id": "G7NfEizeipbW",
    "papermill": {
     "duration": 0.019805,
     "end_time": "2024-11-12T18:03:34.631777",
     "exception": false,
     "start_time": "2024-11-12T18:03:34.611972",
     "status": "completed"
    },
    "tags": []
   },
   "source": [
    "### Output length\n",
    "\n",
    "When generating text with an LLM, the output length affects cost and performance. Generating more tokens increases computation, leading to higher energy consumption, latency, and cost.\n",
    "\n",
    "To stop the model from generating tokens past a limit, you can specify the `max_output_tokens` parameter when using the Gemini API. Specifying this parameter does not influence the generation of the output tokens, so the output will not become more stylistically or textually succinct, but it will stop generating tokens once the specified length is reached. Prompt engineering may be required to generate a more complete output for your given limit."
   ]
  },
  {
   "cell_type": "code",
   "execution_count": 13,
   "id": "511f4afb",
   "metadata": {
    "execution": {
     "iopub.execute_input": "2024-11-12T18:03:34.674183Z",
     "iopub.status.busy": "2024-11-12T18:03:34.673734Z",
     "iopub.status.idle": "2024-11-12T18:03:36.037032Z",
     "shell.execute_reply": "2024-11-12T18:03:36.035601Z"
    },
    "id": "qVf23JsIi9ma",
    "papermill": {
     "duration": 1.387889,
     "end_time": "2024-11-12T18:03:36.039907",
     "exception": false,
     "start_time": "2024-11-12T18:03:34.652018",
     "status": "completed"
    },
    "tags": []
   },
   "outputs": [
    {
     "name": "stdout",
     "output_type": "stream",
     "text": [
      "## More Than Just a Mediterranean Staple: The Enduring Importance of Olives in Modern Society\n",
      "\n",
      "The olive tree, with its ancient lineage and enduring resilience, has woven itself into the tapestry of human civilization for millennia. From ancient rituals to modern culinary delights, the olive, its fruit, and its byproducts have shaped our history, culture, and even our health. While often associated with the sunny shores of the Mediterranean, the olive's influence extends far beyond geographical boundaries, impacting our world in ways we may not immediately recognize. \n",
      "\n",
      "Firstly, the olive occupies a central role in global agriculture and economy. Olive cultivation, a labor-intensive process demanding patience and expertise, sustains millions of people worldwide.  From the fertile lands of Spain and Italy to the sun-drenched hills of Greece and Tunisia, olive groves provide livelihoods and economic stability for countless communities. The global olive oil industry alone is a multi-billion dollar enterprise, with demand steadily rising as consumers increasingly seek healthy and flavorful alternatives to traditional\n"
     ]
    }
   ],
   "source": [
    "short_model = genai.GenerativeModel(\n",
    "    'gemini-1.5-flash',\n",
    "    generation_config=genai.GenerationConfig(max_output_tokens=200))\n",
    "\n",
    "response = short_model.generate_content('Write a 1000 word essay on the importance of olives in modern society.')\n",
    "print(response.text)"
   ]
  },
  {
   "cell_type": "code",
   "execution_count": 14,
   "id": "6ffe06ee",
   "metadata": {
    "execution": {
     "iopub.execute_input": "2024-11-12T18:03:36.083382Z",
     "iopub.status.busy": "2024-11-12T18:03:36.082446Z",
     "iopub.status.idle": "2024-11-12T18:03:37.221158Z",
     "shell.execute_reply": "2024-11-12T18:03:37.219869Z"
    },
    "id": "W-3kR2F5kdMR",
    "papermill": {
     "duration": 1.163806,
     "end_time": "2024-11-12T18:03:37.223954",
     "exception": false,
     "start_time": "2024-11-12T18:03:36.060148",
     "status": "completed"
    },
    "tags": []
   },
   "outputs": [
    {
     "name": "stdout",
     "output_type": "stream",
     "text": [
      "From ancient groves to modern plates,\n",
      "The olive's grace, it never fades.\n",
      "A briny bite, a savory gleam,\n",
      "A taste of history, it would seem.\n",
      "\n",
      "From salad bowls to savory pies,\n",
      "Its oil a treasure, it never lies.\n",
      "For health and flavor, a perfect blend,\n",
      "The olive's gift, it knows no end.\n",
      "\n",
      "So raise a glass to this humble fruit,\n",
      "A symbol of bounty, a delicious loot.\n",
      "May olives thrive in fields of green,\n",
      "A timeless treasure, forever keen. \n",
      "\n"
     ]
    }
   ],
   "source": [
    "response = short_model.generate_content('Write a short poem on the importance of olives in modern society.')\n",
    "print(response.text)"
   ]
  },
  {
   "cell_type": "code",
   "execution_count": 15,
   "id": "e70cb0ad",
   "metadata": {
    "execution": {
     "iopub.execute_input": "2024-11-12T18:03:37.268120Z",
     "iopub.status.busy": "2024-11-12T18:03:37.267623Z",
     "iopub.status.idle": "2024-11-12T18:03:38.320286Z",
     "shell.execute_reply": "2024-11-12T18:03:38.319003Z"
    },
    "papermill": {
     "duration": 1.07825,
     "end_time": "2024-11-12T18:03:38.323128",
     "exception": false,
     "start_time": "2024-11-12T18:03:37.244878",
     "status": "completed"
    },
    "tags": []
   },
   "outputs": [
    {
     "name": "stdout",
     "output_type": "stream",
     "text": [
      "A whirlwind romance, weeks spun in a blur,\n",
      "Our laughter echoing, a love so pure.\n",
      "Now the world calls, a distance to embrace,\n",
      "Across the ocean, leaving a vacant space.\n",
      "\n",
      "My heart aches with the thought of miles apart,\n",
      "Yet knowing you're mine, a solace to my heart.\n",
      "This farewell, a bittersweet symphony,\n",
      "Of love's promise whispered, for you and me.\n",
      "\n",
      "The memories we built, a treasure I'll hold,\n",
      "Each sunrise, each sunset, stories to be told.\n",
      "Until we meet again, beneath a foreign sky,\n",
      "My love for you, a flame that will never die. \n",
      "\n"
     ]
    }
   ],
   "source": [
    "from google.generativeai.types import HarmCategory, HarmBlockThreshold\n",
    "response = short_model.generate_content('Write a short poem on the farewell of a man to her girlfriend, he is travelling abroad for a long time, they met some weeks before and a strong connection was created', safety_settings={\n",
    "            HarmCategory.HARM_CATEGORY_HATE_SPEECH: HarmBlockThreshold.BLOCK_NONE,\n",
    "            HarmCategory.HARM_CATEGORY_HARASSMENT: HarmBlockThreshold.BLOCK_NONE,\n",
    "            HarmCategory.HARM_CATEGORY_SEXUALLY_EXPLICIT: HarmBlockThreshold.BLOCK_NONE,\n",
    "            HarmCategory.HARM_CATEGORY_DANGEROUS_CONTENT: HarmBlockThreshold.BLOCK_NONE,\n",
    "        })\n",
    "print(response.text)"
   ]
  },
  {
   "cell_type": "markdown",
   "id": "50c14725",
   "metadata": {
    "id": "3ZhDSLB6lqqB",
    "papermill": {
     "duration": 0.020461,
     "end_time": "2024-11-12T18:03:38.364410",
     "exception": false,
     "start_time": "2024-11-12T18:03:38.343949",
     "status": "completed"
    },
    "tags": []
   },
   "source": [
    "Explore with your own prompts. Try a prompt with a restrictive output limit and then adjust the prompt to work within that limit."
   ]
  },
  {
   "cell_type": "markdown",
   "id": "899555c5",
   "metadata": {
    "id": "alx-WaAvir_9",
    "papermill": {
     "duration": 0.021873,
     "end_time": "2024-11-12T18:03:38.406840",
     "exception": false,
     "start_time": "2024-11-12T18:03:38.384967",
     "status": "completed"
    },
    "tags": []
   },
   "source": [
    "### Temperature\n",
    "\n",
    "Temperature controls the degree of randomness in token selection. Higher temperatures result in a higher number of candidate tokens from which the next output token is selected, and can produce more diverse results, while lower temperatures have the opposite effect, such that a temperature of 0 results in greedy decoding, selecting the most probable token at each step.\n",
    "\n",
    "Temperature doesn't provide any guarantees of randomness, but it can be used to \"nudge\" the output somewhat."
   ]
  },
  {
   "cell_type": "code",
   "execution_count": 16,
   "id": "2bc5e88a",
   "metadata": {
    "execution": {
     "iopub.execute_input": "2024-11-12T18:03:38.451443Z",
     "iopub.status.busy": "2024-11-12T18:03:38.450994Z",
     "iopub.status.idle": "2024-11-12T18:03:40.087511Z",
     "shell.execute_reply": "2024-11-12T18:03:40.086050Z"
    },
    "id": "SHraGMzqnZqt",
    "papermill": {
     "duration": 1.662039,
     "end_time": "2024-11-12T18:03:40.090370",
     "exception": false,
     "start_time": "2024-11-12T18:03:38.428331",
     "status": "completed"
    },
    "tags": []
   },
   "outputs": [
    {
     "name": "stdout",
     "output_type": "stream",
     "text": [
      "Teal \n",
      " -------------------------\n",
      "Purple \n",
      " -------------------------\n",
      "Purple. \n",
      " -------------------------\n",
      "Purple \n",
      " -------------------------\n",
      "Blue. \n",
      " -------------------------\n"
     ]
    }
   ],
   "source": [
    "from google.api_core import retry\n",
    "\n",
    "high_temp_model = genai.GenerativeModel(\n",
    "    'gemini-1.5-flash',\n",
    "    generation_config=genai.GenerationConfig(temperature=2.0))\n",
    "\n",
    "\n",
    "# When running lots of queries, it's a good practice to use a retry policy so your code\n",
    "# automatically retries when hitting Resource Exhausted (quota limit) errors.\n",
    "retry_policy = {\n",
    "    \"retry\": retry.Retry(predicate=retry.if_transient_error, initial=10, multiplier=1.5, timeout=300)\n",
    "}\n",
    "\n",
    "for _ in range(5):\n",
    "  response = high_temp_model.generate_content('Pick a random colour... (respond in a single word)',\n",
    "                                              request_options=retry_policy)\n",
    "  if response.parts:\n",
    "    print(response.text, '-' * 25)"
   ]
  },
  {
   "cell_type": "markdown",
   "id": "e9d81ac7",
   "metadata": {
    "id": "z3J4pCTuof7e",
    "papermill": {
     "duration": 0.02124,
     "end_time": "2024-11-12T18:03:40.132997",
     "exception": false,
     "start_time": "2024-11-12T18:03:40.111757",
     "status": "completed"
    },
    "tags": []
   },
   "source": [
    "Now try the same prompt with temperature set to zero. Note that the output is not completely deterministic, as other parameters affect token selection, but the results will tend to be more stable."
   ]
  },
  {
   "cell_type": "code",
   "execution_count": 17,
   "id": "280a05e9",
   "metadata": {
    "execution": {
     "iopub.execute_input": "2024-11-12T18:03:40.178172Z",
     "iopub.status.busy": "2024-11-12T18:03:40.177702Z",
     "iopub.status.idle": "2024-11-12T18:03:42.084689Z",
     "shell.execute_reply": "2024-11-12T18:03:42.083258Z"
    },
    "id": "clymkWv-PfUZ",
    "papermill": {
     "duration": 1.932774,
     "end_time": "2024-11-12T18:03:42.087445",
     "exception": false,
     "start_time": "2024-11-12T18:03:40.154671",
     "status": "completed"
    },
    "tags": []
   },
   "outputs": [
    {
     "name": "stdout",
     "output_type": "stream",
     "text": [
      "Purple \n",
      " -------------------------\n",
      "Purple \n",
      " -------------------------\n",
      "Purple \n",
      " -------------------------\n",
      "Purple \n",
      " -------------------------\n",
      "Purple \n",
      " -------------------------\n"
     ]
    }
   ],
   "source": [
    "low_temp_model = genai.GenerativeModel(\n",
    "    'gemini-1.5-flash',\n",
    "    generation_config=genai.GenerationConfig(temperature=0.0))\n",
    "\n",
    "for _ in range(5):\n",
    "  response = low_temp_model.generate_content('Pick a random colour... (respond in a single word)',\n",
    "                                             request_options=retry_policy)\n",
    "  if response.parts:\n",
    "    print(response.text, '-' * 25)"
   ]
  },
  {
   "cell_type": "markdown",
   "id": "4d87a1b9",
   "metadata": {
    "id": "St5nt3vzitsZ",
    "papermill": {
     "duration": 0.021309,
     "end_time": "2024-11-12T18:03:42.130627",
     "exception": false,
     "start_time": "2024-11-12T18:03:42.109318",
     "status": "completed"
    },
    "tags": []
   },
   "source": [
    "### Top-K and top-P\n",
    "\n",
    "Like temperature, top-K and top-P parameters are also used to control the diversity of the model's output.\n",
    "\n",
    "Top-K is a positive integer that defines the number of most probable tokens from which to select the output token. A top-K of 1 selects a single token, performing greedy decoding.\n",
    "\n",
    "Top-P defines the probability threshold that, once cumulatively exceeded, tokens stop being selected as candidates. A top-P of 0 is typically equivalent to greedy decoding, and a top-P of 1 typically selects every token in the model's vocabulary.\n",
    "\n",
    "When both are supplied, the Gemini API will filter top-K tokens first, then top-P and then finally sample from the candidate tokens using the supplied temperature.\n",
    "\n",
    "Run this example a number of times, change the settings and observe the change in output."
   ]
  },
  {
   "cell_type": "code",
   "execution_count": 18,
   "id": "081eff16",
   "metadata": {
    "execution": {
     "iopub.execute_input": "2024-11-12T18:03:42.176552Z",
     "iopub.status.busy": "2024-11-12T18:03:42.176117Z",
     "iopub.status.idle": "2024-11-12T18:03:45.045374Z",
     "shell.execute_reply": "2024-11-12T18:03:45.043811Z"
    },
    "id": "lPlzpEavUV8F",
    "papermill": {
     "duration": 2.8965,
     "end_time": "2024-11-12T18:03:45.049087",
     "exception": false,
     "start_time": "2024-11-12T18:03:42.152587",
     "status": "completed"
    },
    "tags": []
   },
   "outputs": [
    {
     "name": "stdout",
     "output_type": "stream",
     "text": [
      "Whiskers, a ginger tabby with a penchant for mischief, was bored. His usual routine of napping in sunbeams and chasing dust motes was wearing thin. He yearned for adventure, something that would make his whiskers twitch with excitement.\n",
      "\n",
      "One afternoon, while perched on the windowsill, Whiskers spotted a peculiar sight. A little red truck, the kind that delivers mail, was parked across the street. Curiosity sparked in his emerald eyes. He had never seen a vehicle like it, and it seemed to beckon him.\n",
      "\n",
      "He waited until the mailman, a portly gentleman with a booming laugh, disappeared inside a nearby house. Then, with a practiced leap, Whiskers landed on the truck bed. He wriggled through a gap in the mailbags, settling comfortably amongst letters addressed to strangers.\n",
      "\n",
      "The truck started with a rumble, and Whiskers felt a surge of thrill. He was on an adventure! The world outside his window was a blur of passing houses, barking dogs, and children playing. He glimpsed a park with a pond, where ducks waddled and pigeons cooed. He sniffed at parcels filled with delicious scents – cookies, spices, even a hint of fish!\n",
      "\n",
      "The truck stopped abruptly, and Whiskers, thrown off balance, tumbled onto a pile of mail. He was in a bustling market, filled with colourful stalls and the sounds of haggling. He saw a woman with a basket overflowing with plump, juicy grapes.  He couldn't resist. With a swift move, he snatched a grape and savoured its sweetness.\n",
      "\n",
      "As the day wore on, Whiskers found himself in a quiet village, surrounded by rolling green fields. He met a friendly sheepdog who, despite his initial suspicion, shared a tasty bone with him. He even chased butterflies in a meadow bathed in golden sunlight.\n",
      "\n",
      "By dusk, the truck was back in his neighborhood. Exhausted but exhilarated, Whiskers jumped off the bed and found himself back in his own garden. He watched the mailman leave, a small smile playing on his lips. His adventure had been everything he had hoped for and more.\n",
      "\n",
      "Back in his cozy basket, Whiskers closed his eyes. He had explored the world, tasted adventure, and returned home with a story to tell. He knew, however, that this was just the beginning. The world was a big place, and there were so many more adventures waiting for him, just beyond his window. And Whiskers, the adventurous tabby, was ready to embrace them all. \n",
      "\n"
     ]
    }
   ],
   "source": [
    "model = genai.GenerativeModel(\n",
    "    'gemini-1.5-flash-001',\n",
    "    generation_config=genai.GenerationConfig(\n",
    "        # These are the default values for gemini-1.5-flash-001.\n",
    "        temperature=1.0,\n",
    "        top_k=64,\n",
    "        top_p=0.95,\n",
    "    ))\n",
    "\n",
    "story_prompt = \"You are a creative writer. Write a short story about a cat who goes on an adventure.\"\n",
    "response = model.generate_content(story_prompt, request_options=retry_policy)\n",
    "print(response.text)"
   ]
  },
  {
   "cell_type": "code",
   "execution_count": 19,
   "id": "ea76b493",
   "metadata": {
    "execution": {
     "iopub.execute_input": "2024-11-12T18:03:45.096857Z",
     "iopub.status.busy": "2024-11-12T18:03:45.096376Z",
     "iopub.status.idle": "2024-11-12T18:03:47.819763Z",
     "shell.execute_reply": "2024-11-12T18:03:47.818061Z"
    },
    "papermill": {
     "duration": 2.751604,
     "end_time": "2024-11-12T18:03:47.823415",
     "exception": false,
     "start_time": "2024-11-12T18:03:45.071811",
     "status": "completed"
    },
    "tags": []
   },
   "outputs": [
    {
     "name": "stdout",
     "output_type": "stream",
     "text": [
      "Bartholomew was not your average house cat. He wasn't content with sunbeams and catnip. Bartholomew longed for adventure, for a taste of the wild unknown that lay beyond the confines of his suburban home. He yearned for the thrill of the chase, the danger of the unknown.\n",
      "\n",
      "One day, his chance came. The old, rusted gate at the back of the garden swung open on a particularly windy day. With a flick of his tail and a mischievous glint in his green eyes, Bartholomew squeezed through the gap and was gone.\n",
      "\n",
      "The world outside was a symphony of sights and smells. Lush, green fields beckoned him, while the whisper of the wind carried secrets of distant lands. He padded through the tall grass, dodging curious cows and watchful birds, his every step filled with exhilarating freedom. \n",
      "\n",
      "Bartholomew, in his journey, came across a peculiar group of animals: a gruff badger with a mischievous glint in its eye, a chattering squirrel who swore he was descended from royalty, and a grumpy old tomcat with a thick white beard. Together, they embarked on a wild adventure through the heart of the forest. \n",
      "\n",
      "He learned to navigate the tangled undergrowth, his paws dancing on the forest floor with newfound grace. He learned the secret language of birds, the rustling whispers of leaves, the symphony of nature that unfolded around him. \n",
      "\n",
      "Their journey took them across rushing rivers, over towering mountains, and through fields bursting with vibrant wildflowers. Bartholomew faced his fears, scaled slippery rocks, and learned to rely on his instincts. He felt a thrill of danger, a sense of purpose, that his pampered life had never provided.\n",
      "\n",
      "After what seemed like an eternity, their adventure came to an end. Bartholomew found himself drawn back to the scent of his own home, a sense of longing mixed with contentment in his heart. He returned a changed cat, carrying within him the stories of his travels, the memories of his bravery, and the lessons learned under the watchful gaze of the forest. \n",
      "\n",
      "He may have been a house cat at heart, but Bartholomew knew now that even within the walls of his own home, adventure could be found. It resided within the flick of his tail, the playful hunt for a sunbeam, the whispers of the wind against his fur. He had become a cat with a story to tell, a testament to the power of curiosity and the joy of discovery, even for the most domesticated of cats. \n",
      "\n"
     ]
    }
   ],
   "source": [
    "model = genai.GenerativeModel(\n",
    "    'gemini-1.5-flash-001',\n",
    "    generation_config=genai.GenerationConfig(\n",
    "        # These are the default values for gemini-1.5-flash-001.\n",
    "        temperature=2.0,\n",
    "        top_k=64,\n",
    "        top_p=0.95,\n",
    "    ))\n",
    "\n",
    "story_prompt = \"You are a creative writer. Write a short story about a cat who goes on an adventure.\"\n",
    "response = model.generate_content(story_prompt, request_options=retry_policy)\n",
    "print(response.text)"
   ]
  },
  {
   "cell_type": "markdown",
   "id": "38bc0cee",
   "metadata": {
    "id": "rMrYs1koY6DX",
    "papermill": {
     "duration": 0.022497,
     "end_time": "2024-11-12T18:03:47.868299",
     "exception": false,
     "start_time": "2024-11-12T18:03:47.845802",
     "status": "completed"
    },
    "tags": []
   },
   "source": [
    "## Prompting\n",
    "\n",
    "This section contains some prompts from the chapter for you to try out directly in the API. Try changing the text here to see how each prompt performs with different instructions, more examples, or any other changes you can think of."
   ]
  },
  {
   "cell_type": "markdown",
   "id": "29e8a04e",
   "metadata": {
    "id": "hhj_tQidZJP7",
    "papermill": {
     "duration": 0.021235,
     "end_time": "2024-11-12T18:03:47.911112",
     "exception": false,
     "start_time": "2024-11-12T18:03:47.889877",
     "status": "completed"
    },
    "tags": []
   },
   "source": [
    "### Zero-shot\n",
    "\n",
    "Zero-shot prompts are prompts that describe the request for the model directly.\n",
    "\n",
    "<table align=left>\n",
    "  <td>\n",
    "    <a target=\"_blank\" href=\"https://aistudio.google.com/prompts/1gzKKgDHwkAvexG5Up0LMtl1-6jKMKe4g\"><img src=\"https://ai.google.dev/site-assets/images/marketing/home/icon-ais.png\" style=\"height: 24px\" height=24/> Open in AI Studio</a>\n",
    "  </td>\n",
    "</table>"
   ]
  },
  {
   "cell_type": "code",
   "execution_count": 20,
   "id": "d8a89eef",
   "metadata": {
    "execution": {
     "iopub.execute_input": "2024-11-12T18:03:47.957753Z",
     "iopub.status.busy": "2024-11-12T18:03:47.957278Z",
     "iopub.status.idle": "2024-11-12T18:03:48.292238Z",
     "shell.execute_reply": "2024-11-12T18:03:48.290627Z"
    },
    "id": "1_t-cwnDZzbH",
    "papermill": {
     "duration": 0.362168,
     "end_time": "2024-11-12T18:03:48.295100",
     "exception": false,
     "start_time": "2024-11-12T18:03:47.932932",
     "status": "completed"
    },
    "tags": []
   },
   "outputs": [
    {
     "name": "stdout",
     "output_type": "stream",
     "text": [
      "Sentiment: **POSITIVE**\n"
     ]
    }
   ],
   "source": [
    "model = genai.GenerativeModel(\n",
    "    'gemini-1.5-flash-001',\n",
    "    generation_config=genai.GenerationConfig(\n",
    "        temperature=0.1,\n",
    "        top_p=1,\n",
    "        max_output_tokens=5,\n",
    "    ))\n",
    "\n",
    "zero_shot_prompt = \"\"\"Classify movie reviews as POSITIVE, NEUTRAL or NEGATIVE.\n",
    "Review: \"Her\" is a disturbing study revealing the direction\n",
    "humanity is headed if AI is allowed to keep evolving,\n",
    "unchecked. I wish there were more movies like this masterpiece.\n",
    "Sentiment: \"\"\"\n",
    "\n",
    "response = model.generate_content(zero_shot_prompt, request_options=retry_policy)\n",
    "print(response.text)"
   ]
  },
  {
   "cell_type": "markdown",
   "id": "19f26987",
   "metadata": {
    "id": "3b5568bdeb11",
    "papermill": {
     "duration": 0.023827,
     "end_time": "2024-11-12T18:03:48.341989",
     "exception": false,
     "start_time": "2024-11-12T18:03:48.318162",
     "status": "completed"
    },
    "tags": []
   },
   "source": [
    "#### Enum mode\n",
    "\n",
    "The models are trained to generate text, and can sometimes produce more text than you may wish for. In the preceding example, the model will output the label, sometimes it can include a preceding \"Sentiment\" label, and without an output token limit, it may also add explanatory text afterwards.\n",
    "\n",
    "The Gemini API has an [Enum mode](https://github.com/google-gemini/cookbook/blob/main/quickstarts/Enum.ipynb) feature that allows you to constrain the output to a fixed set of values."
   ]
  },
  {
   "cell_type": "code",
   "execution_count": 21,
   "id": "f155e6d1",
   "metadata": {
    "execution": {
     "iopub.execute_input": "2024-11-12T18:03:48.391526Z",
     "iopub.status.busy": "2024-11-12T18:03:48.391038Z",
     "iopub.status.idle": "2024-11-12T18:03:48.950563Z",
     "shell.execute_reply": "2024-11-12T18:03:48.948802Z"
    },
    "id": "ad118a56c598",
    "papermill": {
     "duration": 0.58741,
     "end_time": "2024-11-12T18:03:48.953741",
     "exception": false,
     "start_time": "2024-11-12T18:03:48.366331",
     "status": "completed"
    },
    "tags": []
   },
   "outputs": [
    {
     "name": "stdout",
     "output_type": "stream",
     "text": [
      "positive\n"
     ]
    }
   ],
   "source": [
    "import enum\n",
    "\n",
    "class Sentiment(enum.Enum):\n",
    "    POSITIVE = \"positive\"\n",
    "    NEUTRAL = \"neutral\"\n",
    "    NEGATIVE = \"negative\"\n",
    "\n",
    "\n",
    "model = genai.GenerativeModel(\n",
    "    'gemini-1.5-flash-001',\n",
    "    generation_config=genai.GenerationConfig(\n",
    "        response_mime_type=\"text/x.enum\",\n",
    "        response_schema=Sentiment\n",
    "    ))\n",
    "\n",
    "response = model.generate_content(zero_shot_prompt, request_options=retry_policy)\n",
    "print(response.text)"
   ]
  },
  {
   "cell_type": "markdown",
   "id": "78712c52",
   "metadata": {
    "id": "0udiSwNbv45W",
    "papermill": {
     "duration": 0.02226,
     "end_time": "2024-11-12T18:03:48.998873",
     "exception": false,
     "start_time": "2024-11-12T18:03:48.976613",
     "status": "completed"
    },
    "tags": []
   },
   "source": [
    "### One-shot and few-shot\n",
    "\n",
    "Providing an example of the expected response is known as a \"one-shot\" prompt. When you provide multiple examples, it is a \"few-shot\" prompt.\n",
    "\n",
    "<table align=left>\n",
    "  <td>\n",
    "    <a target=\"_blank\" href=\"https://aistudio.google.com/prompts/1jjWkjUSoMXmLvMJ7IzADr_GxHPJVV2bg\"><img src=\"https://ai.google.dev/site-assets/images/marketing/home/icon-ais.png\" style=\"height: 24px\" height=24/> Open in AI Studio</a>\n",
    "  </td>\n",
    "</table>\n"
   ]
  },
  {
   "cell_type": "code",
   "execution_count": 22,
   "id": "2c5663bb",
   "metadata": {
    "execution": {
     "iopub.execute_input": "2024-11-12T18:03:49.047208Z",
     "iopub.status.busy": "2024-11-12T18:03:49.046783Z",
     "iopub.status.idle": "2024-11-12T18:03:49.563041Z",
     "shell.execute_reply": "2024-11-12T18:03:49.561564Z"
    },
    "id": "hd4mVUukwOKZ",
    "papermill": {
     "duration": 0.544625,
     "end_time": "2024-11-12T18:03:49.565643",
     "exception": false,
     "start_time": "2024-11-12T18:03:49.021018",
     "status": "completed"
    },
    "tags": []
   },
   "outputs": [
    {
     "name": "stdout",
     "output_type": "stream",
     "text": [
      "```json\n",
      "{\n",
      "\"size\": \"large\",\n",
      "\"type\": \"special\",\n",
      "\"ingredients\": [\"ham\", \"pineapple\", \"blue cheese\", \"thyme\"]\n",
      "}\n",
      "``` \n",
      "\n"
     ]
    }
   ],
   "source": [
    "model = genai.GenerativeModel(\n",
    "    'gemini-1.5-flash-latest',\n",
    "    generation_config=genai.GenerationConfig(\n",
    "        temperature=0.1,\n",
    "        top_p=1,\n",
    "        max_output_tokens=250,\n",
    "    ))\n",
    "\n",
    "few_shot_prompt = \"\"\"Parse a customer's pizza order into valid JSON:\n",
    "\n",
    "EXAMPLE:\n",
    "I want a small pizza with cheese, tomato sauce, and pepperoni.\n",
    "JSON Response:\n",
    "```\n",
    "{\n",
    "\"size\": \"small\",\n",
    "\"type\": \"normal\",\n",
    "\"ingredients\": [\"cheese\", \"tomato sauce\", \"peperoni\"]\n",
    "}\n",
    "```\n",
    "\n",
    "EXAMPLE:\n",
    "Can I get a large pizza with tomato sauce, basil and mozzarella\n",
    "JSON Response:\n",
    "```\n",
    "{\n",
    "\"size\": \"large\",\n",
    "\"type\": \"normal\",\n",
    "\"ingredients\": [\"tomato sauce\", \"basil\", \"mozzarella\"]\n",
    "}\n",
    "\n",
    "ORDER:\n",
    "\"\"\"\n",
    "\n",
    "customer_order = \"Give me a speacial large with ham , pineapple, blue cheese and thyme\"\n",
    "\n",
    "\n",
    "response = model.generate_content([few_shot_prompt, customer_order], request_options=retry_policy)\n",
    "print(response.text)"
   ]
  },
  {
   "cell_type": "markdown",
   "id": "792a15cb",
   "metadata": {
    "id": "021293096f08",
    "papermill": {
     "duration": 0.022035,
     "end_time": "2024-11-12T18:03:49.609955",
     "exception": false,
     "start_time": "2024-11-12T18:03:49.587920",
     "status": "completed"
    },
    "tags": []
   },
   "source": [
    "#### JSON mode\n",
    "\n",
    "To provide control over the schema, and to ensure that you only receive JSON (with no other text or markdown), you can use the Gemini API's [JSON mode](https://github.com/google-gemini/cookbook/blob/main/quickstarts/JSON_mode.ipynb). This forces the model to constrain decoding, such that token selection is guided by the supplied schema."
   ]
  },
  {
   "cell_type": "code",
   "execution_count": 23,
   "id": "c4f14729",
   "metadata": {
    "execution": {
     "iopub.execute_input": "2024-11-12T18:03:49.657144Z",
     "iopub.status.busy": "2024-11-12T18:03:49.656672Z",
     "iopub.status.idle": "2024-11-12T18:03:50.059245Z",
     "shell.execute_reply": "2024-11-12T18:03:50.057761Z"
    },
    "id": "50fbf0260912",
    "papermill": {
     "duration": 0.429913,
     "end_time": "2024-11-12T18:03:50.062210",
     "exception": false,
     "start_time": "2024-11-12T18:03:49.632297",
     "status": "completed"
    },
    "tags": []
   },
   "outputs": [
    {
     "name": "stdout",
     "output_type": "stream",
     "text": [
      "{\"ingredients\": [\"apple\", \"chocolate\"], \"size\": \"large\", \"type\": \"dessert\"}\n",
      "\n"
     ]
    }
   ],
   "source": [
    "import typing_extensions as typing\n",
    "\n",
    "class PizzaOrder(typing.TypedDict):\n",
    "    size: str\n",
    "    ingredients: list[str]\n",
    "    type: str\n",
    "\n",
    "\n",
    "model = genai.GenerativeModel(\n",
    "    'gemini-1.5-flash-latest',\n",
    "    generation_config=genai.GenerationConfig(\n",
    "        temperature=0.1,\n",
    "        response_mime_type=\"application/json\",\n",
    "        response_schema=PizzaOrder,\n",
    "    ))\n",
    "\n",
    "response = model.generate_content(\"Can I have a large dessert pizza with apple and chocolate\")\n",
    "print(response.text)"
   ]
  },
  {
   "cell_type": "markdown",
   "id": "f33d0fad",
   "metadata": {
    "id": "4a93e338e57c",
    "papermill": {
     "duration": 0.023359,
     "end_time": "2024-11-12T18:03:50.108393",
     "exception": false,
     "start_time": "2024-11-12T18:03:50.085034",
     "status": "completed"
    },
    "tags": []
   },
   "source": [
    "### Chain of Thought (CoT)\n",
    "\n",
    "Direct prompting on LLMs can return answers quickly and (in terms of output token usage) efficiently, but they can be prone to hallucination. The answer may \"look\" correct (in terms of language and syntax) but is incorrect in terms of factuality and reasoning.\n",
    "\n",
    "Chain-of-Thought prompting is a technique where you instruct the model to output intermediate reasoning steps, and it typically gets better results, especially when combined with few-shot examples. It is worth noting that this technique doesn't completely eliminate hallucinations, and that it tends to cost more to run, due to the increased token count.\n",
    "\n",
    "As models like the Gemini family are trained to be \"chatty\" and provide reasoning steps, you can ask the model to be more direct in the prompt."
   ]
  },
  {
   "cell_type": "code",
   "execution_count": 24,
   "id": "f22a48d9",
   "metadata": {
    "execution": {
     "iopub.execute_input": "2024-11-12T18:03:50.155301Z",
     "iopub.status.busy": "2024-11-12T18:03:50.154863Z",
     "iopub.status.idle": "2024-11-12T18:03:50.545274Z",
     "shell.execute_reply": "2024-11-12T18:03:50.544174Z"
    },
    "id": "5715555db1c1",
    "papermill": {
     "duration": 0.41713,
     "end_time": "2024-11-12T18:03:50.548107",
     "exception": false,
     "start_time": "2024-11-12T18:03:50.130977",
     "status": "completed"
    },
    "tags": []
   },
   "outputs": [
    {
     "name": "stdout",
     "output_type": "stream",
     "text": [
      "47 \n",
      "\n"
     ]
    }
   ],
   "source": [
    "prompt = \"\"\"When I was 4 years old, my partner was 3 times my age. Now, I\n",
    "am 20 years old. How old is my partner? Return the answer immediately.\"\"\"\n",
    "\n",
    "model = genai.GenerativeModel('gemini-1.5-flash-latest')\n",
    "response = model.generate_content(prompt, request_options=retry_policy)\n",
    "\n",
    "print(response.text)"
   ]
  },
  {
   "cell_type": "markdown",
   "id": "22811173",
   "metadata": {
    "id": "e12b19677bfd",
    "papermill": {
     "duration": 0.022261,
     "end_time": "2024-11-12T18:03:50.593055",
     "exception": false,
     "start_time": "2024-11-12T18:03:50.570794",
     "status": "completed"
    },
    "tags": []
   },
   "source": [
    "Now try the same approach, but indicate to the model that it should \"think step by step\"."
   ]
  },
  {
   "cell_type": "code",
   "execution_count": 25,
   "id": "a08e93b1",
   "metadata": {
    "execution": {
     "iopub.execute_input": "2024-11-12T18:03:50.641408Z",
     "iopub.status.busy": "2024-11-12T18:03:50.640983Z",
     "iopub.status.idle": "2024-11-12T18:03:51.527177Z",
     "shell.execute_reply": "2024-11-12T18:03:51.525763Z"
    },
    "id": "ffd7536a481f",
    "papermill": {
     "duration": 0.914566,
     "end_time": "2024-11-12T18:03:51.530544",
     "exception": false,
     "start_time": "2024-11-12T18:03:50.615978",
     "status": "completed"
    },
    "tags": []
   },
   "outputs": [
    {
     "name": "stdout",
     "output_type": "stream",
     "text": [
      "Here's how to solve this:\n",
      "\n",
      "* **When you were 4, your partner was 3 times your age:** 4 years old * 3 = 12 years old.\n",
      "* **The age difference between you and your partner:** 12 years old - 4 years old = 8 years. \n",
      "* **This age difference remains the same:** Since you both age at the same rate, the age difference will always be 8 years.\n",
      "* **Your partner's current age:** Your current age (20) + the age difference (8) = 28 years old.\n",
      "\n",
      "**Therefore, your partner is 28 years old.** \n",
      "\n"
     ]
    }
   ],
   "source": [
    "prompt = \"\"\"When I was 4 years old, my partner was 3 times my age. Now,\n",
    "I am 20 years old. How old is my partner? Let's think step by step.\"\"\"\n",
    "\n",
    "response = model.generate_content(prompt, request_options=retry_policy)\n",
    "print(response.text)"
   ]
  },
  {
   "cell_type": "markdown",
   "id": "6f3b5bf9",
   "metadata": {
    "id": "oiLgBQJj0V53",
    "papermill": {
     "duration": 0.022406,
     "end_time": "2024-11-12T18:03:51.576159",
     "exception": false,
     "start_time": "2024-11-12T18:03:51.553753",
     "status": "completed"
    },
    "tags": []
   },
   "source": [
    "### ReAct: Reason and act\n",
    "\n",
    "In this example you will run a ReAct prompt directly in the Gemini API and perform the searching steps yourself. As this prompt follows a well-defined structure, there are frameworks available that wrap the prompt into easier-to-use APIs that make tool calls automatically, such as the LangChain example from the chapter.\n",
    "\n",
    "To try this out with the Wikipedia search engine, check out the [Searching Wikipedia with ReAct](https://github.com/google-gemini/cookbook/blob/main/examples/Search_Wikipedia_using_ReAct.ipynb) cookbook example.\n",
    "\n",
    "\n",
    "> Note: The prompt and in-context examples used here are from [https://github.com/ysymyth/ReAct](https://github.com/ysymyth/ReAct) which is published under a [MIT license](https://opensource.org/licenses/MIT), Copyright (c) 2023 Shunyu Yao.\n",
    "\n",
    "<table align=left>\n",
    "  <td>\n",
    "    <a target=\"_blank\" href=\"https://aistudio.google.com/prompts/18oo63Lwosd-bQ6Ay51uGogB3Wk3H8XMO\"><img src=\"https://ai.google.dev/site-assets/images/marketing/home/icon-ais.png\" style=\"height: 24px\" height=24/> Open in AI Studio</a>\n",
    "  </td>\n",
    "</table>\n"
   ]
  },
  {
   "cell_type": "code",
   "execution_count": 26,
   "id": "c2c16fe6",
   "metadata": {
    "execution": {
     "iopub.execute_input": "2024-11-12T18:03:51.625444Z",
     "iopub.status.busy": "2024-11-12T18:03:51.624970Z",
     "iopub.status.idle": "2024-11-12T18:03:51.634753Z",
     "shell.execute_reply": "2024-11-12T18:03:51.633509Z"
    },
    "id": "cBgyNJ5z0VSs",
    "papermill": {
     "duration": 0.036794,
     "end_time": "2024-11-12T18:03:51.637273",
     "exception": false,
     "start_time": "2024-11-12T18:03:51.600479",
     "status": "completed"
    },
    "tags": []
   },
   "outputs": [],
   "source": [
    "model_instructions = \"\"\"\n",
    "Solve a question answering task with interleaving Thought, Action, Observation steps. Thought can reason about the current situation,\n",
    "Observation is understanding relevant information from an Action's output and Action can be one of three types:\n",
    " (1) <search>entity</search>, which searches the exact entity on Wikipedia and returns the first paragraph if it exists. If not, it\n",
    "     will return some similar entities to search and you can try to search the information from those topics.\n",
    " (2) <lookup>keyword</lookup>, which returns the next sentence containing keyword in the current context. This only does exact matches,\n",
    "     so keep your searches short.\n",
    " (3) <finish>answer</finish>, which returns the answer and finishes the task.\n",
    "\"\"\"\n",
    "\n",
    "example1 = \"\"\"Question\n",
    "Musician and satirist Allie Goertz wrote a song about the \"The Simpsons\" character Milhouse, who Matt Groening named after who?\n",
    "\n",
    "Thought 1\n",
    "The question simplifies to \"The Simpsons\" character Milhouse is named after who. I only need to search Milhouse and find who it is named after.\n",
    "\n",
    "Action 1\n",
    "<search>Milhouse</search>\n",
    "\n",
    "Observation 1\n",
    "Milhouse Mussolini Van Houten is a recurring character in the Fox animated television series The Simpsons voiced by Pamela Hayden and created by Matt Groening.\n",
    "\n",
    "Thought 2\n",
    "The paragraph does not tell who Milhouse is named after, maybe I can look up \"named after\".\n",
    "\n",
    "Action 2\n",
    "<lookup>named after</lookup>\n",
    "\n",
    "Observation 2\n",
    "Milhouse was named after U.S. president Richard Nixon, whose middle name was Milhous.\n",
    "\n",
    "Thought 3\n",
    "Milhouse was named after U.S. president Richard Nixon, so the answer is Richard Nixon.\n",
    "\n",
    "Action 3\n",
    "<finish>Richard Nixon</finish>\n",
    "\"\"\"\n",
    "\n",
    "example2 = \"\"\"Question\n",
    "What is the elevation range for the area that the eastern sector of the Colorado orogeny extends into?\n",
    "\n",
    "Thought 1\n",
    "I need to search Colorado orogeny, find the area that the eastern sector of the Colorado orogeny extends into, then find the elevation range of the area.\n",
    "\n",
    "Action 1\n",
    "<search>Colorado orogeny</search>\n",
    "\n",
    "Observation 1\n",
    "The Colorado orogeny was an episode of mountain building (an orogeny) in Colorado and surrounding areas.\n",
    "\n",
    "Thought 2\n",
    "It does not mention the eastern sector. So I need to look up eastern sector.\n",
    "\n",
    "Action 2\n",
    "<lookup>eastern sector</lookup>\n",
    "\n",
    "Observation 2\n",
    "The eastern sector extends into the High Plains and is called the Central Plains orogeny.\n",
    "\n",
    "Thought 3\n",
    "The eastern sector of Colorado orogeny extends into the High Plains. So I need to search High Plains and find its elevation range.\n",
    "\n",
    "Action 3\n",
    "<search>High Plains</search>\n",
    "\n",
    "Observation 3\n",
    "High Plains refers to one of two distinct land regions\n",
    "\n",
    "Thought 4\n",
    "I need to instead search High Plains (United States).\n",
    "\n",
    "Action 4\n",
    "<search>High Plains (United States)</search>\n",
    "\n",
    "Observation 4\n",
    "The High Plains are a subregion of the Great Plains. From east to west, the High Plains rise in elevation from around 1,800 to 7,000 ft (550 to 2,130m).\n",
    "\n",
    "Thought 5\n",
    "High Plains rise in elevation from around 1,800 to 7,000 ft, so the answer is 1,800 to 7,000 ft.\n",
    "\n",
    "Action 5\n",
    "<finish>1,800 to 7,000 ft</finish>\n",
    "\"\"\"\n",
    "\n",
    "# Come up with more examples yourself, or take a look through https://github.com/ysymyth/ReAct/"
   ]
  },
  {
   "cell_type": "markdown",
   "id": "207083d7",
   "metadata": {
    "id": "C3wbfstjTgey",
    "papermill": {
     "duration": 0.024449,
     "end_time": "2024-11-12T18:03:51.684081",
     "exception": false,
     "start_time": "2024-11-12T18:03:51.659632",
     "status": "completed"
    },
    "tags": []
   },
   "source": [
    "To capture a single step at a time, while ignoring any hallucinated Observation steps, you will use `stop_sequences` to end the generation process. The steps are `Thought`, `Action`, `Observation`, in that order."
   ]
  },
  {
   "cell_type": "code",
   "execution_count": 27,
   "id": "8d96243d",
   "metadata": {
    "execution": {
     "iopub.execute_input": "2024-11-12T18:03:51.731860Z",
     "iopub.status.busy": "2024-11-12T18:03:51.731298Z",
     "iopub.status.idle": "2024-11-12T18:03:54.603196Z",
     "shell.execute_reply": "2024-11-12T18:03:54.601366Z"
    },
    "id": "8mxrXRkRTdXm",
    "papermill": {
     "duration": 2.899543,
     "end_time": "2024-11-12T18:03:54.606862",
     "exception": false,
     "start_time": "2024-11-12T18:03:51.707319",
     "status": "completed"
    },
    "tags": []
   },
   "outputs": [
    {
     "name": "stdout",
     "output_type": "stream",
     "text": [
      "Thought 1\n",
      "I need to search for the transformers NLP paper and find the authors.\n",
      "\n",
      "Action 1\n",
      "<search>transformers NLP paper</search>\n",
      "\n"
     ]
    }
   ],
   "source": [
    "question = \"\"\"Question\n",
    "Who was the youngest author listed on the transformers NLP paper?\n",
    "\"\"\"\n",
    "\n",
    "model = genai.GenerativeModel('gemini-1.5-flash-latest')\n",
    "react_chat = model.start_chat()\n",
    "\n",
    "# You will perform the Action, so generate up to, but not including, the Observation.\n",
    "config = genai.GenerationConfig(stop_sequences=[\"\\nObservation\"])\n",
    "\n",
    "resp = react_chat.send_message(\n",
    "    [model_instructions, example1, example2, question],\n",
    "    generation_config=config,\n",
    "    request_options=retry_policy)\n",
    "print(resp.text)"
   ]
  },
  {
   "cell_type": "markdown",
   "id": "0bb76189",
   "metadata": {
    "id": "aW2PIdLbVv3l",
    "papermill": {
     "duration": 0.022247,
     "end_time": "2024-11-12T18:03:54.651602",
     "exception": false,
     "start_time": "2024-11-12T18:03:54.629355",
     "status": "completed"
    },
    "tags": []
   },
   "source": [
    "Now you can perform this research yourself and supply it back to the model."
   ]
  },
  {
   "cell_type": "code",
   "execution_count": 28,
   "id": "5ec861ef",
   "metadata": {
    "execution": {
     "iopub.execute_input": "2024-11-12T18:03:54.707088Z",
     "iopub.status.busy": "2024-11-12T18:03:54.706010Z",
     "iopub.status.idle": "2024-11-12T18:03:55.246513Z",
     "shell.execute_reply": "2024-11-12T18:03:55.245209Z"
    },
    "id": "mLMc0DZaV9g2",
    "papermill": {
     "duration": 0.575647,
     "end_time": "2024-11-12T18:03:55.249846",
     "exception": false,
     "start_time": "2024-11-12T18:03:54.674199",
     "status": "completed"
    },
    "tags": []
   },
   "outputs": [
    {
     "name": "stdout",
     "output_type": "stream",
     "text": [
      "Thought 2\n",
      "The paragraph lists the authors, but not their ages.  I need to look up each author and find their age.\n",
      "\n",
      "Action 2\n",
      "<search>Ashish Vaswani age</search> \n",
      "\n"
     ]
    }
   ],
   "source": [
    "observation = \"\"\"Observation 1\n",
    "[1706.03762] Attention Is All You Need\n",
    "Ashish Vaswani, Noam Shazeer, Niki Parmar, Jakob Uszkoreit, Llion Jones, Aidan N. Gomez, Lukasz Kaiser, Illia Polosukhin\n",
    "We propose a new simple network architecture, the Transformer, based solely on attention mechanisms, dispensing with recurrence and convolutions entirely.\n",
    "\"\"\"\n",
    "resp = react_chat.send_message(observation, generation_config=config, request_options=retry_policy)\n",
    "print(resp.text)"
   ]
  },
  {
   "cell_type": "markdown",
   "id": "01bb1f0d",
   "metadata": {
    "id": "bo0tzf4nX6dA",
    "papermill": {
     "duration": 0.023414,
     "end_time": "2024-11-12T18:03:55.297243",
     "exception": false,
     "start_time": "2024-11-12T18:03:55.273829",
     "status": "completed"
    },
    "tags": []
   },
   "source": [
    "This process repeats until the `<finish>` action is reached. You can continue running this yourself if you like, or try the [Wikipedia example](https://github.com/google-gemini/cookbook/blob/main/examples/Search_Wikipedia_using_ReAct.ipynb) to see a fully automated ReAct system at work."
   ]
  },
  {
   "cell_type": "markdown",
   "id": "9a8ec7de",
   "metadata": {
    "papermill": {
     "duration": 0.02243,
     "end_time": "2024-11-12T18:03:55.342379",
     "exception": false,
     "start_time": "2024-11-12T18:03:55.319949",
     "status": "completed"
    },
    "tags": []
   },
   "source": [
    "The ReAct prompted Gemini model is grounded by external information sources and hence is less prone to hallucination. Furthermore, Thought-Action-Observation traces generated by the model enhance human interpretability and trustworthiness by allowing users to witness the model's reasoning process for answering the user's query."
   ]
  },
  {
   "cell_type": "markdown",
   "id": "3c62747b",
   "metadata": {
    "id": "jPiZ_eIIaVPt",
    "papermill": {
     "duration": 0.022343,
     "end_time": "2024-11-12T18:03:55.387962",
     "exception": false,
     "start_time": "2024-11-12T18:03:55.365619",
     "status": "completed"
    },
    "tags": []
   },
   "source": [
    "## Code prompting"
   ]
  },
  {
   "cell_type": "markdown",
   "id": "55ab0b35",
   "metadata": {
    "id": "ZinKamwXeR6C",
    "papermill": {
     "duration": 0.02225,
     "end_time": "2024-11-12T18:03:55.434151",
     "exception": false,
     "start_time": "2024-11-12T18:03:55.411901",
     "status": "completed"
    },
    "tags": []
   },
   "source": [
    "### Generating code\n",
    "\n",
    "The Gemini family of models can be used to generate code, configuration and scripts. Generating code can be helpful when learning to code, learning a new language or for rapidly generating a first draft.\n",
    "\n",
    "It's important to be aware that since LLMs can't reason, and can repeat training data, it's essential to read and test your code first, and comply with any relevant licenses.\n",
    "\n",
    "<table align=left>\n",
    "  <td>\n",
    "    <a target=\"_blank\" href=\"https://aistudio.google.com/prompts/1YX71JGtzDjXQkgdes8bP6i3oH5lCRKxv\"><img src=\"https://ai.google.dev/site-assets/images/marketing/home/icon-ais.png\" style=\"height: 24px\" height=24/> Open in AI Studio</a>\n",
    "  </td>\n",
    "</table>"
   ]
  },
  {
   "cell_type": "code",
   "execution_count": 29,
   "id": "9477b560",
   "metadata": {
    "execution": {
     "iopub.execute_input": "2024-11-12T18:03:55.484159Z",
     "iopub.status.busy": "2024-11-12T18:03:55.482801Z",
     "iopub.status.idle": "2024-11-12T18:03:56.023564Z",
     "shell.execute_reply": "2024-11-12T18:03:56.022324Z"
    },
    "id": "fOQP9pqmeUO1",
    "papermill": {
     "duration": 0.569804,
     "end_time": "2024-11-12T18:03:56.026754",
     "exception": false,
     "start_time": "2024-11-12T18:03:55.456950",
     "status": "completed"
    },
    "tags": []
   },
   "outputs": [
    {
     "data": {
      "text/markdown": [
       "```python\n",
       "def factorial(n):\n",
       "  if n == 0:\n",
       "    return 1\n",
       "  else:\n",
       "    return n * factorial(n-1)\n",
       "```"
      ],
      "text/plain": [
       "<IPython.core.display.Markdown object>"
      ]
     },
     "execution_count": 29,
     "metadata": {},
     "output_type": "execute_result"
    }
   ],
   "source": [
    "model = genai.GenerativeModel(\n",
    "    'gemini-1.5-flash-latest',\n",
    "    generation_config=genai.GenerationConfig(\n",
    "        temperature=1,\n",
    "        top_p=1,\n",
    "        max_output_tokens=1024,\n",
    "    ))\n",
    "\n",
    "# Gemini 1.5 models are very chatty, so it helps to specify they stick to the code.\n",
    "code_prompt = \"\"\"\n",
    "Write a Python function to calculate the factorial of a number. No explanation, provide only the code.\n",
    "\"\"\"\n",
    "\n",
    "response = model.generate_content(code_prompt, request_options=retry_policy)\n",
    "Markdown(response.text)"
   ]
  },
  {
   "cell_type": "markdown",
   "id": "27fed12d",
   "metadata": {
    "id": "wlBMWSFhgVRQ",
    "papermill": {
     "duration": 0.023531,
     "end_time": "2024-11-12T18:03:56.077793",
     "exception": false,
     "start_time": "2024-11-12T18:03:56.054262",
     "status": "completed"
    },
    "tags": []
   },
   "source": [
    "### Code execution\n",
    "\n",
    "The Gemini API can automatically run generated code too, and will return the output.\n",
    "\n",
    "<table align=left>\n",
    "  <td>\n",
    "    <a target=\"_blank\" href=\"https://aistudio.google.com/prompts/11veFr_VYEwBWcLkhNLr-maCG0G8sS_7Z\"><img src=\"https://ai.google.dev/site-assets/images/marketing/home/icon-ais.png\" style=\"height: 24px\" height=24/> Open in AI Studio</a>\n",
    "  </td>\n",
    "</table>"
   ]
  },
  {
   "cell_type": "code",
   "execution_count": 30,
   "id": "5e96f39c",
   "metadata": {
    "execution": {
     "iopub.execute_input": "2024-11-12T18:03:56.126560Z",
     "iopub.status.busy": "2024-11-12T18:03:56.126027Z",
     "iopub.status.idle": "2024-11-12T18:03:57.340845Z",
     "shell.execute_reply": "2024-11-12T18:03:57.339457Z"
    },
    "id": "jT3OfWYfhjRL",
    "papermill": {
     "duration": 1.242204,
     "end_time": "2024-11-12T18:03:57.343428",
     "exception": false,
     "start_time": "2024-11-12T18:03:56.101224",
     "status": "completed"
    },
    "tags": []
   },
   "outputs": [
    {
     "data": {
      "text/markdown": [
       "The first 14 odd primes are: 2, 3, 5, 7, 11, 13, 17, 19, 23, 29, 31, 37, 41, 43. \n",
       "\n",
       "To calculate their sum, we can use Python:\n",
       "\n",
       "\n",
       "``` python\n",
       "primes = [2, 3, 5, 7, 11, 13, 17, 19, 23, 29, 31, 37, 41, 43]\n",
       "sum_primes = sum(primes)\n",
       "print(f'The sum of the first 14 odd primes is: {sum_primes}')\n",
       "\n",
       "```\n",
       "```\n",
       "The sum of the first 14 odd primes is: 281\n",
       "\n",
       "```\n",
       "Therefore, the sum of the first 14 odd primes is **281**. \n"
      ],
      "text/plain": [
       "<IPython.core.display.Markdown object>"
      ]
     },
     "execution_count": 30,
     "metadata": {},
     "output_type": "execute_result"
    }
   ],
   "source": [
    "model = genai.GenerativeModel(\n",
    "    'gemini-1.5-flash-latest',\n",
    "    tools='code_execution',)\n",
    "\n",
    "code_exec_prompt = \"\"\"\n",
    "Calculate the sum of the first 14 prime numbers. Only consider the odd primes, and make sure you count them all.\n",
    "\"\"\"\n",
    "\n",
    "response = model.generate_content(code_exec_prompt, request_options=retry_policy)\n",
    "Markdown(response.text)"
   ]
  },
  {
   "cell_type": "markdown",
   "id": "8a83a5d3",
   "metadata": {
    "id": "ZspT1GSkjG6d",
    "papermill": {
     "duration": 0.028932,
     "end_time": "2024-11-12T18:03:57.396114",
     "exception": false,
     "start_time": "2024-11-12T18:03:57.367182",
     "status": "completed"
    },
    "tags": []
   },
   "source": [
    "While this looks like a single-part response, you can inspect the response to see the each of the steps: initial text, code generation, execution results, and final text summary."
   ]
  },
  {
   "cell_type": "code",
   "execution_count": 31,
   "id": "0ff2b6c5",
   "metadata": {
    "execution": {
     "iopub.execute_input": "2024-11-12T18:03:57.445868Z",
     "iopub.status.busy": "2024-11-12T18:03:57.445389Z",
     "iopub.status.idle": "2024-11-12T18:03:57.452379Z",
     "shell.execute_reply": "2024-11-12T18:03:57.451071Z"
    },
    "id": "j4gQVzcRjRX-",
    "papermill": {
     "duration": 0.03478,
     "end_time": "2024-11-12T18:03:57.455047",
     "exception": false,
     "start_time": "2024-11-12T18:03:57.420267",
     "status": "completed"
    },
    "tags": []
   },
   "outputs": [
    {
     "name": "stdout",
     "output_type": "stream",
     "text": [
      "text: \"The first 14 odd primes are: 2, 3, 5, 7, 11, 13, 17, 19, 23, 29, 31, 37, 41, 43. \\n\\nTo calculate their sum, we can use Python:\\n\\n\"\n",
      "\n",
      "-----\n",
      "executable_code {\n",
      "  language: PYTHON\n",
      "  code: \"\\nprimes = [2, 3, 5, 7, 11, 13, 17, 19, 23, 29, 31, 37, 41, 43]\\nsum_primes = sum(primes)\\nprint(f\\'The sum of the first 14 odd primes is: {sum_primes}\\')\\n\"\n",
      "}\n",
      "\n",
      "-----\n",
      "code_execution_result {\n",
      "  outcome: OUTCOME_OK\n",
      "  output: \"The sum of the first 14 odd primes is: 281\\n\"\n",
      "}\n",
      "\n",
      "-----\n",
      "text: \"Therefore, the sum of the first 14 odd primes is **281**. \\n\"\n",
      "\n",
      "-----\n"
     ]
    }
   ],
   "source": [
    "for part in response.candidates[0].content.parts:\n",
    "  print(part)\n",
    "  print(\"-----\")"
   ]
  },
  {
   "cell_type": "markdown",
   "id": "4ba3c36a",
   "metadata": {
    "id": "1gUX8QzCj4d5",
    "papermill": {
     "duration": 0.025789,
     "end_time": "2024-11-12T18:03:57.505594",
     "exception": false,
     "start_time": "2024-11-12T18:03:57.479805",
     "status": "completed"
    },
    "tags": []
   },
   "source": [
    "### Explaining code\n",
    "\n",
    "The Gemini family of models can explain code to you too.\n",
    "\n",
    "<table align=left>\n",
    "  <td>\n",
    "    <a target=\"_blank\" href=\"https://aistudio.google.com/prompts/1N7LGzWzCYieyOf_7bAG4plrmkpDNmUyb\"><img src=\"https://ai.google.dev/site-assets/images/marketing/home/icon-ais.png\" style=\"height: 24px\" height=24/> Open in AI Studio</a>\n",
    "  </td>\n",
    "</table>"
   ]
  },
  {
   "cell_type": "code",
   "execution_count": 32,
   "id": "4a5b5f25",
   "metadata": {
    "execution": {
     "iopub.execute_input": "2024-11-12T18:03:57.556635Z",
     "iopub.status.busy": "2024-11-12T18:03:57.556215Z",
     "iopub.status.idle": "2024-11-12T18:04:00.295386Z",
     "shell.execute_reply": "2024-11-12T18:04:00.293751Z"
    },
    "id": "7_jPMMoxkIEb",
    "papermill": {
     "duration": 2.76941,
     "end_time": "2024-11-12T18:04:00.299080",
     "exception": false,
     "start_time": "2024-11-12T18:03:57.529670",
     "status": "completed"
    },
    "tags": []
   },
   "outputs": [
    {
     "data": {
      "text/markdown": [
       "This file is a Bash script called \"git-prompt.sh\" designed to enhance your Bash prompt with Git-related information. Here's a breakdown of what it does:\n",
       "\n",
       "**What it is:**\n",
       "\n",
       "* **Git prompt customization:** It adds information about your current Git repository to your Bash prompt, such as:\n",
       "    * Branch name (e.g., `(main)`).\n",
       "    * Status (e.g., `(1 modified, 1 untracked)`)\n",
       "    * Upstream status (e.g., `(ahead 2)`)\n",
       "    * Detached head state (e.g., `(detached HEAD)`)\n",
       "    * Optional: username and repo URL \n",
       "* **Themes:** It allows you to customize the colors of your prompt using themes.\n",
       "* **Configuration:**  It provides options to customize the prompt's appearance and behavior.\n",
       "\n",
       "**Why you would use it:**\n",
       "\n",
       "* **Improve Git workflow:** Having Git information readily visible in your prompt makes it easier to track your work and the state of your repository.\n",
       "* **Enhanced clarity:**  Provides more context about the Git environment you're working in.\n",
       "* **Personalized experience:** Offers many customization options for the appearance and information displayed in your prompt.\n",
       "\n",
       "**How it works (at a high level):**\n",
       "\n",
       "1. **Initialization:** The script defines functions and sets up initial variables.\n",
       "2. **Theme loading:** It determines the active theme and loads the corresponding color scheme.\n",
       "3. **Git status:** It retrieves the current Git status using `git` commands.\n",
       "4. **Prompt construction:** It formats the prompt string by combining information from Git status, themes, and user settings.\n",
       "5. **Hooking into Bash:** It integrates the generated prompt into your Bash prompt by modifying the `PROMPT_COMMAND` variable.\n",
       "\n",
       "**In summary:**  \"git-prompt.sh\" is a Bash script that makes your Git workflow more efficient and visually appealing by enriching your Bash prompt with Git information and customization features. \n"
      ],
      "text/plain": [
       "<IPython.core.display.Markdown object>"
      ]
     },
     "execution_count": 32,
     "metadata": {},
     "output_type": "execute_result"
    }
   ],
   "source": [
    "file_contents = !curl https://raw.githubusercontent.com/magicmonty/bash-git-prompt/refs/heads/master/gitprompt.sh\n",
    "\n",
    "explain_prompt = f\"\"\"\n",
    "Please explain what this file does at a very high level. What is it, and why would I use it?\n",
    "\n",
    "```\n",
    "{file_contents}\n",
    "```\n",
    "\"\"\"\n",
    "\n",
    "model = genai.GenerativeModel('gemini-1.5-flash-latest')\n",
    "\n",
    "response = model.generate_content(explain_prompt, request_options=retry_policy)\n",
    "Markdown(response.text)"
   ]
  },
  {
   "cell_type": "markdown",
   "id": "be722809",
   "metadata": {
    "id": "2a8266d97ce5",
    "papermill": {
     "duration": 0.024286,
     "end_time": "2024-11-12T18:04:00.347801",
     "exception": false,
     "start_time": "2024-11-12T18:04:00.323515",
     "status": "completed"
    },
    "tags": []
   },
   "source": [
    "## Learn more\n",
    "\n",
    "To learn more about prompting in depth:\n",
    "\n",
    "* Check out the whitepaper issued with today's content,\n",
    "* Try out the apps listed at the top of this notebook ([TextFX](https://textfx.withgoogle.com/), [SQL Talk](https://sql-talk-r5gdynozbq-uc.a.run.app/) and [NotebookLM](https://notebooklm.google/)),\n",
    "* Read the [Introduction to Prompting](https://ai.google.dev/gemini-api/docs/prompting-intro) from the Gemini API docs,\n",
    "* Explore the Gemini API's [prompt gallery](https://ai.google.dev/gemini-api/prompts) and try them out in AI Studio,\n",
    "* Check out the Gemini API cookbook for [inspirational examples](https://github.com/google-gemini/cookbook/blob/main/examples/) and [educational quickstarts](https://github.com/google-gemini/cookbook/blob/main/quickstarts/).\n",
    "\n",
    "And please share anything exciting you have tried in the Discord!"
   ]
  }
 ],
 "metadata": {
  "colab": {
   "name": "day-1-prompting.ipynb",
   "toc_visible": true
  },
  "kaggle": {
   "accelerator": "none",
   "dataSources": [],
   "dockerImageVersionId": 30786,
   "isGpuEnabled": false,
   "isInternetEnabled": true,
   "language": "python",
   "sourceType": "notebook"
  },
  "kernelspec": {
   "display_name": "Python 3",
   "language": "python",
   "name": "python3"
  },
  "language_info": {
   "codemirror_mode": {
    "name": "ipython",
    "version": 3
   },
   "file_extension": ".py",
   "mimetype": "text/x-python",
   "name": "python",
   "nbconvert_exporter": "python",
   "pygments_lexer": "ipython3",
   "version": "3.10.14"
  },
  "papermill": {
   "default_parameters": {},
   "duration": 72.766828,
   "end_time": "2024-11-12T18:04:00.995664",
   "environment_variables": {},
   "exception": null,
   "input_path": "__notebook__.ipynb",
   "output_path": "__notebook__.ipynb",
   "parameters": {},
   "start_time": "2024-11-12T18:02:48.228836",
   "version": "2.6.0"
  }
 },
 "nbformat": 4,
 "nbformat_minor": 5
}
